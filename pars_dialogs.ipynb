{
 "cells": [
  {
   "cell_type": "code",
   "execution_count": 1,
   "id": "6336cb49",
   "metadata": {},
   "outputs": [],
   "source": [
    "import pandas as pd"
   ]
  },
  {
   "cell_type": "markdown",
   "id": "964ce14b",
   "metadata": {},
   "source": [
    "**Главные задачи, которые должен выполнять скрипт:** <br>\n",
    "Извлекать реплики с приветствием – где менеджер поздоровался. <br>\n",
    "Извлекать реплики, где менеджер представил себя. <br>\n",
    "Извлекать имя менеджера. <br>\n",
    "Извлекать название компании. <br>\n",
    "Извлекать реплики, где менеджер попрощался. <br>\n",
    "Проверять требование к менеджеру: «В каждом диалоге обязательно необходимо поздороваться и попрощаться с клиентом»"
   ]
  },
  {
   "cell_type": "code",
   "execution_count": 2,
   "id": "43f14608",
   "metadata": {
    "scrolled": false
   },
   "outputs": [
    {
     "data": {
      "text/html": [
       "<div>\n",
       "<style scoped>\n",
       "    .dataframe tbody tr th:only-of-type {\n",
       "        vertical-align: middle;\n",
       "    }\n",
       "\n",
       "    .dataframe tbody tr th {\n",
       "        vertical-align: top;\n",
       "    }\n",
       "\n",
       "    .dataframe thead th {\n",
       "        text-align: right;\n",
       "    }\n",
       "</style>\n",
       "<table border=\"1\" class=\"dataframe\">\n",
       "  <thead>\n",
       "    <tr style=\"text-align: right;\">\n",
       "      <th></th>\n",
       "      <th>dlg_id</th>\n",
       "      <th>line_n</th>\n",
       "      <th>role</th>\n",
       "      <th>text</th>\n",
       "    </tr>\n",
       "  </thead>\n",
       "  <tbody>\n",
       "    <tr>\n",
       "      <th>0</th>\n",
       "      <td>0</td>\n",
       "      <td>0</td>\n",
       "      <td>client</td>\n",
       "      <td>Алло</td>\n",
       "    </tr>\n",
       "    <tr>\n",
       "      <th>1</th>\n",
       "      <td>0</td>\n",
       "      <td>1</td>\n",
       "      <td>manager</td>\n",
       "      <td>Алло здравствуйте</td>\n",
       "    </tr>\n",
       "    <tr>\n",
       "      <th>2</th>\n",
       "      <td>0</td>\n",
       "      <td>2</td>\n",
       "      <td>client</td>\n",
       "      <td>Добрый день</td>\n",
       "    </tr>\n",
       "    <tr>\n",
       "      <th>3</th>\n",
       "      <td>0</td>\n",
       "      <td>3</td>\n",
       "      <td>manager</td>\n",
       "      <td>Меня зовут ангелина компания диджитал бизнес з...</td>\n",
       "    </tr>\n",
       "    <tr>\n",
       "      <th>4</th>\n",
       "      <td>0</td>\n",
       "      <td>4</td>\n",
       "      <td>client</td>\n",
       "      <td>Ага</td>\n",
       "    </tr>\n",
       "    <tr>\n",
       "      <th>...</th>\n",
       "      <td>...</td>\n",
       "      <td>...</td>\n",
       "      <td>...</td>\n",
       "      <td>...</td>\n",
       "    </tr>\n",
       "    <tr>\n",
       "      <th>475</th>\n",
       "      <td>5</td>\n",
       "      <td>138</td>\n",
       "      <td>manager</td>\n",
       "      <td>По поводу виджетов и с ними уже обсудите конкр...</td>\n",
       "    </tr>\n",
       "    <tr>\n",
       "      <th>476</th>\n",
       "      <td>5</td>\n",
       "      <td>139</td>\n",
       "      <td>manager</td>\n",
       "      <td>Все я вам высылаю счет и с вами на связи если ...</td>\n",
       "    </tr>\n",
       "    <tr>\n",
       "      <th>477</th>\n",
       "      <td>5</td>\n",
       "      <td>140</td>\n",
       "      <td>client</td>\n",
       "      <td>Спасибо спасибо</td>\n",
       "    </tr>\n",
       "    <tr>\n",
       "      <th>478</th>\n",
       "      <td>5</td>\n",
       "      <td>141</td>\n",
       "      <td>client</td>\n",
       "      <td>Да да тогда созвонимся ага спасибо вам давайте</td>\n",
       "    </tr>\n",
       "    <tr>\n",
       "      <th>479</th>\n",
       "      <td>5</td>\n",
       "      <td>142</td>\n",
       "      <td>manager</td>\n",
       "      <td>Ну до свидания хорошего вечера</td>\n",
       "    </tr>\n",
       "  </tbody>\n",
       "</table>\n",
       "<p>480 rows × 4 columns</p>\n",
       "</div>"
      ],
      "text/plain": [
       "     dlg_id  line_n     role  \\\n",
       "0         0       0   client   \n",
       "1         0       1  manager   \n",
       "2         0       2   client   \n",
       "3         0       3  manager   \n",
       "4         0       4   client   \n",
       "..      ...     ...      ...   \n",
       "475       5     138  manager   \n",
       "476       5     139  manager   \n",
       "477       5     140   client   \n",
       "478       5     141   client   \n",
       "479       5     142  manager   \n",
       "\n",
       "                                                  text  \n",
       "0                                                 Алло  \n",
       "1                                    Алло здравствуйте  \n",
       "2                                          Добрый день  \n",
       "3    Меня зовут ангелина компания диджитал бизнес з...  \n",
       "4                                                  Ага  \n",
       "..                                                 ...  \n",
       "475  По поводу виджетов и с ними уже обсудите конкр...  \n",
       "476  Все я вам высылаю счет и с вами на связи если ...  \n",
       "477                                    Спасибо спасибо  \n",
       "478     Да да тогда созвонимся ага спасибо вам давайте  \n",
       "479                     Ну до свидания хорошего вечера  \n",
       "\n",
       "[480 rows x 4 columns]"
      ]
     },
     "execution_count": 2,
     "metadata": {},
     "output_type": "execute_result"
    }
   ],
   "source": [
    "df = pd.read_csv('test_data.csv')\n",
    "df"
   ]
  },
  {
   "cell_type": "markdown",
   "id": "1c8018c2",
   "metadata": {},
   "source": [
    "## Извлекать реплики с приветствием – где менеджер поздоровался"
   ]
  },
  {
   "cell_type": "code",
   "execution_count": 3,
   "id": "0025a92d",
   "metadata": {
    "scrolled": true
   },
   "outputs": [
    {
     "data": {
      "text/plain": [
       "['Алло здравствуйте',\n",
       " 'Алло здравствуйте',\n",
       " 'Алло здравствуйте',\n",
       " 'Алло дмитрий добрый день',\n",
       " 'Добрый меня максим зовут компания китобизнес удобно говорить']"
      ]
     },
     "execution_count": 3,
     "metadata": {},
     "output_type": "execute_result"
    }
   ],
   "source": [
    "df1 = df[(df['role']=='manager')]\n",
    "df2=df1[df1['text'].str.contains('здравствуйте|добрый|добрый день|доброе утро|добрый вечер', case=False, na=False)] \n",
    "df2.text.tolist()"
   ]
  },
  {
   "cell_type": "markdown",
   "id": "300de18f",
   "metadata": {},
   "source": [
    "## Извлекать реплики, где менеджер представил себя"
   ]
  },
  {
   "cell_type": "code",
   "execution_count": 4,
   "id": "7593d9fc",
   "metadata": {
    "scrolled": true
   },
   "outputs": [
    {
     "data": {
      "text/plain": [
       "['Меня зовут ангелина компания диджитал бизнес звоним вам по поводу продления лицензии а мы с серым у вас скоро срок заканчивается',\n",
       " 'Меня зовут ангелина компания диджитал бизнес звоню вам по поводу продления а мы сели обратила внимание что у вас срок заканчивается',\n",
       " 'Меня зовут ангелина компания диджитал бизнес звоню вам по поводу продления лицензии а мастера мы с вами сотрудничали по видео там',\n",
       " 'Добрый меня максим зовут компания китобизнес удобно говорить']"
      ]
     },
     "execution_count": 4,
     "metadata": {},
     "output_type": "execute_result"
    }
   ],
   "source": [
    "df1 = df[(df['role']=='manager')]\n",
    "df2 = df1[df1['text'].str.contains('меня зовут|моё имя|мое имя|зовут', case=False, na=False)]\n",
    "df2.text.tolist()"
   ]
  },
  {
   "cell_type": "markdown",
   "id": "4dc09e58",
   "metadata": {},
   "source": [
    "## Извлекать имя менеджера"
   ]
  },
  {
   "cell_type": "code",
   "execution_count": 5,
   "id": "c46b00db",
   "metadata": {},
   "outputs": [
    {
     "name": "stdout",
     "output_type": "stream",
     "text": [
      "Имена менеджеров: максим ангелина\n"
     ]
    }
   ],
   "source": [
    "def get_names(all_list):\n",
    "    names = []\n",
    "    for i in all_list: # проходим по всем строкам общего списка\n",
    "        L = i.split() # берем каждую строку и делим ее на отдельные слова\n",
    "        L2 = [] # вспомогательный список\n",
    "        \n",
    "        #1 проверка, шаблон: меня зовут _____, мое имя ____ и т.д\n",
    "        for j in range(len(L)-1): \n",
    "            if L[j] in ('меня', 'моё', 'мое'): \n",
    "                if L[j+1] in ('зовут', 'имя'):\n",
    "                    L2 = L[j+2:]\n",
    "                    if len(L2) !=0: #проверка списка на пустоту\n",
    "                        names.append(L2[0])\n",
    "                    break\n",
    "        #2 проверка, шаблон: меня _____ зовут\n",
    "        for j in range(len(L)-2):\n",
    "            if L[j] == 'меня': \n",
    "                if L[j+2] == 'зовут':\n",
    "                    L2 = L[j+1:]\n",
    "                    if len(L2) !=0: #проверка списка на пустоту\n",
    "                        names.append(L2[0])\n",
    "                    break\n",
    "            \n",
    "    return set(names) # фильтруем на уникальные имена\n",
    "        \n",
    "df1 = df[(df['role']=='manager')] #все фразы менеджера\n",
    "df2 = df1[df1['text'].str.contains('меня зовут|моё имя|мое имя|зовут', case=False, na=False)] # все строки где имеется имя менеджера\n",
    "print('Имена менеджеров:', *get_names(df2['text'].str.lower().tolist())) # список строк в нижнем регистре передаем в функцию\n"
   ]
  },
  {
   "cell_type": "markdown",
   "id": "912c3f57",
   "metadata": {},
   "source": [
    "## Извлекать название компании"
   ]
  },
  {
   "cell_type": "code",
   "execution_count": 6,
   "id": "395a563e",
   "metadata": {},
   "outputs": [
    {
     "name": "stdout",
     "output_type": "stream",
     "text": [
      "Потенциальные названия компаний:  ['диджитал бизнес', 'китобизнес удобно']\n",
      "Названия компаний: ['диджитал бизнес', 'китобизнес']\n"
     ]
    }
   ],
   "source": [
    "def get_company_names(list_str):\n",
    "    comp_names = []\n",
    "    for i in list_str:\n",
    "        L = i.split()  \n",
    "        ind_sreza = L.index('компания')\n",
    "        comp_names.append(' '.join(L[ind_sreza+1:ind_sreza+3]))\n",
    "    return list(set(comp_names))\n",
    "\n",
    "df3 = df[(df['text'].str.contains('компания', case=False, na=False)) & (df['role']=='manager') ]\n",
    "rez = get_company_names(df2.text.str.lower().tolist())\n",
    "print('Потенциальные названия компаний: ', rez)\n",
    "\n",
    "rez=['китобизнес' if i=='китобизнес удобно' else i for i in rez]\n",
    "print('Названия компаний:', rez)"
   ]
  },
  {
   "cell_type": "markdown",
   "id": "d6d0437f",
   "metadata": {},
   "source": [
    "## Извлекать реплики, где менеджер попрощался"
   ]
  },
  {
   "cell_type": "code",
   "execution_count": 7,
   "id": "715b444c",
   "metadata": {
    "scrolled": true
   },
   "outputs": [
    {
     "data": {
      "text/plain": [
       "['Всего хорошего до свидания',\n",
       " 'До свидания',\n",
       " 'Угу все хорошо да понедельника тогда всего доброго',\n",
       " 'Во вторник все ну с вами да тогда до вторника до свидания',\n",
       " 'Ну до свидания хорошего вечера']"
      ]
     },
     "execution_count": 7,
     "metadata": {},
     "output_type": "execute_result"
    }
   ],
   "source": [
    "df1 = df[(df['role']=='manager')]\n",
    "df2=df1[df1['text'].str.contains('до свидания|всего доброго', case=False, na=False)]\n",
    "df2.text.tolist()"
   ]
  },
  {
   "cell_type": "markdown",
   "id": "1dc0826e",
   "metadata": {},
   "source": [
    "## Проверять требование к менеджеру: «В каждом диалоге обязательно необходимо поздороваться и попрощаться с клиентом»"
   ]
  },
  {
   "cell_type": "code",
   "execution_count": 8,
   "id": "3f081049",
   "metadata": {
    "scrolled": true
   },
   "outputs": [],
   "source": [
    "# Шаг 1. Фильтруем данные\n",
    "df1 = df[(df['role']=='manager')]\n",
    "df2=df1[df1['text'].str.contains('здравствуйте|добрый|добрый день|доброе утро|добрый вечер|до свидания|всего доброго', case=False, na=False)] "
   ]
  },
  {
   "cell_type": "code",
   "execution_count": 9,
   "id": "e1ac2bb6",
   "metadata": {},
   "outputs": [
    {
     "data": {
      "text/html": [
       "<div>\n",
       "<style scoped>\n",
       "    .dataframe tbody tr th:only-of-type {\n",
       "        vertical-align: middle;\n",
       "    }\n",
       "\n",
       "    .dataframe tbody tr th {\n",
       "        vertical-align: top;\n",
       "    }\n",
       "\n",
       "    .dataframe thead th {\n",
       "        text-align: right;\n",
       "    }\n",
       "</style>\n",
       "<table border=\"1\" class=\"dataframe\">\n",
       "  <thead>\n",
       "    <tr style=\"text-align: right;\">\n",
       "      <th></th>\n",
       "      <th>dlg_id</th>\n",
       "      <th>line_n</th>\n",
       "      <th>role</th>\n",
       "      <th>text</th>\n",
       "      <th>greetings</th>\n",
       "    </tr>\n",
       "  </thead>\n",
       "  <tbody>\n",
       "    <tr>\n",
       "      <th>1</th>\n",
       "      <td>0</td>\n",
       "      <td>1</td>\n",
       "      <td>manager</td>\n",
       "      <td>Алло здравствуйте</td>\n",
       "      <td>True</td>\n",
       "    </tr>\n",
       "    <tr>\n",
       "      <th>108</th>\n",
       "      <td>0</td>\n",
       "      <td>108</td>\n",
       "      <td>manager</td>\n",
       "      <td>Всего хорошего до свидания</td>\n",
       "      <td>False</td>\n",
       "    </tr>\n",
       "    <tr>\n",
       "      <th>110</th>\n",
       "      <td>1</td>\n",
       "      <td>1</td>\n",
       "      <td>manager</td>\n",
       "      <td>Алло здравствуйте</td>\n",
       "      <td>True</td>\n",
       "    </tr>\n",
       "    <tr>\n",
       "      <th>163</th>\n",
       "      <td>1</td>\n",
       "      <td>54</td>\n",
       "      <td>manager</td>\n",
       "      <td>До свидания</td>\n",
       "      <td>False</td>\n",
       "    </tr>\n",
       "    <tr>\n",
       "      <th>166</th>\n",
       "      <td>2</td>\n",
       "      <td>2</td>\n",
       "      <td>manager</td>\n",
       "      <td>Алло здравствуйте</td>\n",
       "      <td>True</td>\n",
       "    </tr>\n",
       "    <tr>\n",
       "      <th>250</th>\n",
       "      <td>3</td>\n",
       "      <td>1</td>\n",
       "      <td>manager</td>\n",
       "      <td>Алло дмитрий добрый день</td>\n",
       "      <td>True</td>\n",
       "    </tr>\n",
       "    <tr>\n",
       "      <th>251</th>\n",
       "      <td>3</td>\n",
       "      <td>2</td>\n",
       "      <td>manager</td>\n",
       "      <td>Добрый меня максим зовут компания китобизнес у...</td>\n",
       "      <td>True</td>\n",
       "    </tr>\n",
       "    <tr>\n",
       "      <th>300</th>\n",
       "      <td>3</td>\n",
       "      <td>51</td>\n",
       "      <td>manager</td>\n",
       "      <td>Угу все хорошо да понедельника тогда всего доб...</td>\n",
       "      <td>False</td>\n",
       "    </tr>\n",
       "    <tr>\n",
       "      <th>335</th>\n",
       "      <td>4</td>\n",
       "      <td>33</td>\n",
       "      <td>manager</td>\n",
       "      <td>Во вторник все ну с вами да тогда до вторника ...</td>\n",
       "      <td>False</td>\n",
       "    </tr>\n",
       "    <tr>\n",
       "      <th>479</th>\n",
       "      <td>5</td>\n",
       "      <td>142</td>\n",
       "      <td>manager</td>\n",
       "      <td>Ну до свидания хорошего вечера</td>\n",
       "      <td>False</td>\n",
       "    </tr>\n",
       "  </tbody>\n",
       "</table>\n",
       "</div>"
      ],
      "text/plain": [
       "     dlg_id  line_n     role  \\\n",
       "1         0       1  manager   \n",
       "108       0     108  manager   \n",
       "110       1       1  manager   \n",
       "163       1      54  manager   \n",
       "166       2       2  manager   \n",
       "250       3       1  manager   \n",
       "251       3       2  manager   \n",
       "300       3      51  manager   \n",
       "335       4      33  manager   \n",
       "479       5     142  manager   \n",
       "\n",
       "                                                  text  greetings  \n",
       "1                                    Алло здравствуйте       True  \n",
       "108                         Всего хорошего до свидания      False  \n",
       "110                                  Алло здравствуйте       True  \n",
       "163                                        До свидания      False  \n",
       "166                                  Алло здравствуйте       True  \n",
       "250                           Алло дмитрий добрый день       True  \n",
       "251  Добрый меня максим зовут компания китобизнес у...       True  \n",
       "300  Угу все хорошо да понедельника тогда всего доб...      False  \n",
       "335  Во вторник все ну с вами да тогда до вторника ...      False  \n",
       "479                     Ну до свидания хорошего вечера      False  "
      ]
     },
     "execution_count": 9,
     "metadata": {},
     "output_type": "execute_result"
    }
   ],
   "source": [
    "# Шаг 2. Добавляем столбец \"greetings\" - является ли фраза приветствием (для наглядности)\n",
    "L = df2.text.str.contains('здравствуйте|добрый|добрый день|доброе утро|добрый вечер', case=False)\n",
    "df2.insert (4, 'greetings', L)\n",
    "df2"
   ]
  },
  {
   "cell_type": "code",
   "execution_count": 10,
   "id": "2e693f1f",
   "metadata": {},
   "outputs": [
    {
     "data": {
      "text/plain": [
       "['ОК',\n",
       " 'ОК',\n",
       " 'ОК',\n",
       " 'ОК',\n",
       " 'Менеджер поздоровался, но не попрощался',\n",
       " 'Менеджер поздоровался, но не попрощался',\n",
       " 'ОК',\n",
       " 'ОК',\n",
       " 'Менеджер попрощался, но не поздороваться',\n",
       " 'Менеджер попрощался, но не поздороваться']"
      ]
     },
     "execution_count": 10,
     "metadata": {},
     "output_type": "execute_result"
    }
   ],
   "source": [
    "# Шаг 3. Проверка требования «В каждом диалоге обязательно необходимо поздороваться и попрощаться с клиентом»\n",
    "L_grt = df2.text.str.contains('здравствуйте|добрый|добрый день|доброе утро|добрый вечер', case=False).tolist()\n",
    "L_grt_status = []\n",
    "fl_cont = False # флаг чтобы пропускать следующий цикл\n",
    "for i in range(len(L_grt)):\n",
    "    \n",
    "    # пропуск шага если было приветствие и прощание\n",
    "    if fl_cont:\n",
    "        fl_cont = False\n",
    "        continue\n",
    "    \n",
    "    # проверка последнего шага\n",
    "    if i == len(L_grt)-1:\n",
    "        if L_grt[i] == True:\n",
    "            L_grt_status.append('Менеджер поздоровался, но не попрощался')\n",
    "        else:\n",
    "            L_grt_status.append('Менеджер попрощался, но не поздороваться')\n",
    "        break\n",
    "    \n",
    "    # проверка: было приветствие и прощание\n",
    "    if L_grt[i] == True and L_grt[i+1] == False: \n",
    "        L_grt_status.append('ОК')\n",
    "        L_grt_status.append('ОК')\n",
    "        fl_cont = True # пропуск следующего цикла\n",
    "        continue\n",
    "    \n",
    "    # проверка: было только прощание\n",
    "    if L_grt[i] == False and L_grt[i+1] == True: \n",
    "        L_grt_status.append('Менеджер попрощался, но не поздороваться')\n",
    "    \n",
    "    # проверка: было только приветствие\n",
    "    if L_grt[i] == True and L_grt[i+1] == True:\n",
    "        L_grt_status.append('Менеджер поздоровался, но не попрощался')\n",
    "        \n",
    "    # проверка: было только прощание\n",
    "    if L_grt[i] == False and L_grt[i+1] == False:\n",
    "        L_grt_status.append('Менеджер попрощался, но не поздороваться')\n",
    "       \n",
    "L_grt_status"
   ]
  },
  {
   "cell_type": "code",
   "execution_count": 11,
   "id": "9941625f",
   "metadata": {},
   "outputs": [
    {
     "data": {
      "text/html": [
       "<div>\n",
       "<style scoped>\n",
       "    .dataframe tbody tr th:only-of-type {\n",
       "        vertical-align: middle;\n",
       "    }\n",
       "\n",
       "    .dataframe tbody tr th {\n",
       "        vertical-align: top;\n",
       "    }\n",
       "\n",
       "    .dataframe thead th {\n",
       "        text-align: right;\n",
       "    }\n",
       "</style>\n",
       "<table border=\"1\" class=\"dataframe\">\n",
       "  <thead>\n",
       "    <tr style=\"text-align: right;\">\n",
       "      <th></th>\n",
       "      <th>dlg_id</th>\n",
       "      <th>line_n</th>\n",
       "      <th>role</th>\n",
       "      <th>text</th>\n",
       "      <th>greetings</th>\n",
       "      <th>status</th>\n",
       "    </tr>\n",
       "  </thead>\n",
       "  <tbody>\n",
       "    <tr>\n",
       "      <th>1</th>\n",
       "      <td>0</td>\n",
       "      <td>1</td>\n",
       "      <td>manager</td>\n",
       "      <td>Алло здравствуйте</td>\n",
       "      <td>True</td>\n",
       "      <td>ОК</td>\n",
       "    </tr>\n",
       "    <tr>\n",
       "      <th>108</th>\n",
       "      <td>0</td>\n",
       "      <td>108</td>\n",
       "      <td>manager</td>\n",
       "      <td>Всего хорошего до свидания</td>\n",
       "      <td>False</td>\n",
       "      <td>ОК</td>\n",
       "    </tr>\n",
       "    <tr>\n",
       "      <th>110</th>\n",
       "      <td>1</td>\n",
       "      <td>1</td>\n",
       "      <td>manager</td>\n",
       "      <td>Алло здравствуйте</td>\n",
       "      <td>True</td>\n",
       "      <td>ОК</td>\n",
       "    </tr>\n",
       "    <tr>\n",
       "      <th>163</th>\n",
       "      <td>1</td>\n",
       "      <td>54</td>\n",
       "      <td>manager</td>\n",
       "      <td>До свидания</td>\n",
       "      <td>False</td>\n",
       "      <td>ОК</td>\n",
       "    </tr>\n",
       "    <tr>\n",
       "      <th>166</th>\n",
       "      <td>2</td>\n",
       "      <td>2</td>\n",
       "      <td>manager</td>\n",
       "      <td>Алло здравствуйте</td>\n",
       "      <td>True</td>\n",
       "      <td>Менеджер поздоровался, но не попрощался</td>\n",
       "    </tr>\n",
       "    <tr>\n",
       "      <th>250</th>\n",
       "      <td>3</td>\n",
       "      <td>1</td>\n",
       "      <td>manager</td>\n",
       "      <td>Алло дмитрий добрый день</td>\n",
       "      <td>True</td>\n",
       "      <td>Менеджер поздоровался, но не попрощался</td>\n",
       "    </tr>\n",
       "    <tr>\n",
       "      <th>251</th>\n",
       "      <td>3</td>\n",
       "      <td>2</td>\n",
       "      <td>manager</td>\n",
       "      <td>Добрый меня максим зовут компания китобизнес у...</td>\n",
       "      <td>True</td>\n",
       "      <td>ОК</td>\n",
       "    </tr>\n",
       "    <tr>\n",
       "      <th>300</th>\n",
       "      <td>3</td>\n",
       "      <td>51</td>\n",
       "      <td>manager</td>\n",
       "      <td>Угу все хорошо да понедельника тогда всего доб...</td>\n",
       "      <td>False</td>\n",
       "      <td>ОК</td>\n",
       "    </tr>\n",
       "    <tr>\n",
       "      <th>335</th>\n",
       "      <td>4</td>\n",
       "      <td>33</td>\n",
       "      <td>manager</td>\n",
       "      <td>Во вторник все ну с вами да тогда до вторника ...</td>\n",
       "      <td>False</td>\n",
       "      <td>Менеджер попрощался, но не поздороваться</td>\n",
       "    </tr>\n",
       "    <tr>\n",
       "      <th>479</th>\n",
       "      <td>5</td>\n",
       "      <td>142</td>\n",
       "      <td>manager</td>\n",
       "      <td>Ну до свидания хорошего вечера</td>\n",
       "      <td>False</td>\n",
       "      <td>Менеджер попрощался, но не поздороваться</td>\n",
       "    </tr>\n",
       "  </tbody>\n",
       "</table>\n",
       "</div>"
      ],
      "text/plain": [
       "     dlg_id  line_n     role  \\\n",
       "1         0       1  manager   \n",
       "108       0     108  manager   \n",
       "110       1       1  manager   \n",
       "163       1      54  manager   \n",
       "166       2       2  manager   \n",
       "250       3       1  manager   \n",
       "251       3       2  manager   \n",
       "300       3      51  manager   \n",
       "335       4      33  manager   \n",
       "479       5     142  manager   \n",
       "\n",
       "                                                  text  greetings  \\\n",
       "1                                    Алло здравствуйте       True   \n",
       "108                         Всего хорошего до свидания      False   \n",
       "110                                  Алло здравствуйте       True   \n",
       "163                                        До свидания      False   \n",
       "166                                  Алло здравствуйте       True   \n",
       "250                           Алло дмитрий добрый день       True   \n",
       "251  Добрый меня максим зовут компания китобизнес у...       True   \n",
       "300  Угу все хорошо да понедельника тогда всего доб...      False   \n",
       "335  Во вторник все ну с вами да тогда до вторника ...      False   \n",
       "479                     Ну до свидания хорошего вечера      False   \n",
       "\n",
       "                                       status  \n",
       "1                                          ОК  \n",
       "108                                        ОК  \n",
       "110                                        ОК  \n",
       "163                                        ОК  \n",
       "166   Менеджер поздоровался, но не попрощался  \n",
       "250   Менеджер поздоровался, но не попрощался  \n",
       "251                                        ОК  \n",
       "300                                        ОК  \n",
       "335  Менеджер попрощался, но не поздороваться  \n",
       "479  Менеджер попрощался, но не поздороваться  "
      ]
     },
     "execution_count": 11,
     "metadata": {},
     "output_type": "execute_result"
    }
   ],
   "source": [
    "# Шаг 4. Выводим результат списка L_grt_status в новый сталбец status\n",
    "S = pd.Series(L_grt_status,\n",
    "             index=df2.index)\n",
    "df2.insert (5, 'status', S)\n",
    "df2"
   ]
  }
 ],
 "metadata": {
  "kernelspec": {
   "display_name": "Python 3 (ipykernel)",
   "language": "python",
   "name": "python3"
  },
  "language_info": {
   "codemirror_mode": {
    "name": "ipython",
    "version": 3
   },
   "file_extension": ".py",
   "mimetype": "text/x-python",
   "name": "python",
   "nbconvert_exporter": "python",
   "pygments_lexer": "ipython3",
   "version": "3.9.12"
  }
 },
 "nbformat": 4,
 "nbformat_minor": 5
}
